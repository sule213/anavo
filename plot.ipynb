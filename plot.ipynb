{
 "cells": [
  {
   "cell_type": "code",
   "execution_count": 43,
   "metadata": {},
   "outputs": [
    {
     "data": {
      "image/png": "[encoded data removed]",
      "text/plain": [
       "<Figure size 432x288 with 1 Axes>"
      ]
     },
     "metadata": {
      "needs_background": "light"
     },
     "output_type": "display_data"
    }
   ],
   "source": [
    "import pandas as pd\n",
    "import numpy as np\n",
    "import matplotlib.pyplot as plt\n",
    "\n",
    "def normalize(data):\n",
    "        return (data - np.min(data)) / (np.max(data) - np.min(data))\n",
    "    \n",
    "#names = ['A','B','C','D','E','F','G','H','I','J']\n",
    "\n",
    "df1 = pd.read_csv(r\"C:\\Users\\sulei\\Documents\\C1_vol.csv\")\n",
    "#df2 = pd.read_csv(r\"C:\\Users\\sulei\\Documents\\MCF10A_intensity_dataframe.csv\")\n",
    "#df3 = pd.read_csv('MCF10A Control_info_table.csv')\n",
    "#df4 = pd.read_csv('MCF10A  DTT 1uM 30mins_info_table.csv')\n",
    "\n",
    "#W = df1['Control']\n",
    "#X = df2['Control']\n",
    "#X = df1['DTT 1uM 30mins']\n",
    "#X = df2['volume']\n",
    "#Y = df1['volume']\n",
    "#Z = df2['volume']\n",
    "#df1 = df1[df1['Control'] > 0.2]\n",
    "#df1 = df1[df1['DTT 1uM 30mins'] > 0.2]\n",
    "\n",
    "df1 = df1.groupby('label').mean().reset_index()\n",
    "\n",
    "W = df1['label'] \n",
    "X = df1['volume'] * 0.000064\n",
    "\n",
    "Y = df1['volume'].sem() * 0.000064\n",
    "\n",
    "fig, ax = plt.subplots(1, 1, constrained_layout=True)\n",
    "unique_column_names = ['Control', 'DTT 1uM 30mins']\n",
    "#unique_column_names = ['MDA-MB-23', 'MCF10A']\n",
    "bins = 256\n",
    "ax.bar(W, X, alpha=0.5, color=['red','blue', 'green', 'yellow'])\n",
    "ax.errorbar(W, X, yerr=Y)\n",
    "#ax.bar(X, alpha=0.5, color='red')\n",
    "#ax.bar(Y, alpha=0.5, color='forestgreen')\n",
    "#ax.bar(Z, alpha=0.5, color='darkseagreen')\n",
    "# ax.legend(loc='upper right')\n",
    "#plt.legend(list(unique_column_names))\n",
    "ax.set_ylabel('Volume  (µ³)', fontsize=12)\n",
    "#ax.set_xlabel('Condition', fontsize=12)\n",
    "ax.set_title(\"Average Volume of nuclie\", fontsize=12)\n",
    "#ax.set_ylim(0, 30000)\n",
    "#ax.set_xlim(0, 0.5)\n",
    "# plt.yticks(fontsize=12)\n",
    "plt.xticks(fontsize=14)\n",
    "plt.show()"
   ]
  },
  {
   "cell_type": "code",
   "execution_count": null,
   "metadata": {},
   "outputs": [],
   "source": []
  },
  {
   "cell_type": "code",
   "execution_count": null,
   "metadata": {},
   "outputs": [],
   "source": []
  }
 ],
 "metadata": {
  "kernelspec": {
   "display_name": "Python 3",
   "language": "python",
   "name": "python3"
  },
  "language_info": {
   "codemirror_mode": {
    "name": "ipython",
    "version": 3
   },
   "file_extension": ".py",
   "mimetype": "text/x-python",
   "name": "python",
   "nbconvert_exporter": "python",
   "pygments_lexer": "ipython3",
   "version": "3.7.3"
  }
 },
 "nbformat": 4,
 "nbformat_minor": 2
}
